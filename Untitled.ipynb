{
 "cells": [
  {
   "cell_type": "code",
   "execution_count": 8,
   "metadata": {},
   "outputs": [],
   "source": [
    "import numpy as np"
   ]
  },
  {
   "cell_type": "code",
   "execution_count": 9,
   "metadata": {},
   "outputs": [],
   "source": [
    "import json "
   ]
  },
  {
   "cell_type": "code",
   "execution_count": 10,
   "metadata": {},
   "outputs": [],
   "source": [
    "def get_list(data):\n",
    "    array_list=[]\n",
    "    for i in data['websites']:\n",
    "        array_list.append(i['links'])\n",
    "    return array_list"
   ]
  },
  {
   "cell_type": "code",
   "execution_count": 11,
   "metadata": {},
   "outputs": [],
   "source": [
    "def make_matrix(data,max):\n",
    "    zero_array=np.zeros((max+1,max+1))\n",
    "    counter=0\n",
    "    for i in data:\n",
    "        for j in i:\n",
    "            zero_array[counter][j]=1\n",
    "        counter+=1\n",
    "    return zero_array\n"
   ]
  },
  {
   "cell_type": "code",
   "execution_count": 12,
   "metadata": {},
   "outputs": [],
   "source": [
    "def get_max_list(data):\n",
    "    array_list=[]\n",
    "    max_list=[]\n",
    "    for i in data['websites']:\n",
    "        array_list.append(i['links'])\n",
    "        max_list.append(max(i['links']))\n",
    "    return max(max_list)"
   ]
  },
  {
   "cell_type": "code",
   "execution_count": 13,
   "metadata": {},
   "outputs": [],
   "source": [
    "\n",
    "f = open('DATASET.json') \n",
    "  \n",
    "# returns JSON object as  \n",
    "# a dictionary \n",
    "data = json.load(f) \n",
    "\n",
    "all_ara=get_list(data)\n",
    "\n",
    "pagerank_array=make_matrix(all_ara,1000)\n",
    "\n",
    "sport = np.zeros(1001).reshape(1001, -1)\n",
    "news = np.zeros(1001).reshape(1001, -1)\n",
    "fun = np.zeros(1001).reshape(1001, -1)\n",
    "\n",
    "counter=0\n",
    "for i in data['websites']:\n",
    "    if(i['category']==\"news\"):\n",
    "        news[counter]=1\n",
    "    if(i['category']==\"sport\"):\n",
    "        sport[counter]=1\n",
    "    if(i['category']==\"fun\"):\n",
    "        fun[counter]=1\n",
    "    counter+=1\n",
    "        \n",
    "\n",
    "\n",
    "np.savetxt(\"foo.csv\", pagerank_array, delimiter=\",\")\n",
    "# Closing file \n",
    "f.close() \n"
   ]
  },
  {
   "cell_type": "code",
   "execution_count": 71,
   "metadata": {},
   "outputs": [
    {
     "name": "stdout",
     "output_type": "stream",
     "text": [
      "[[1.]\n",
      " [0.]\n",
      " [0.]\n",
      " ...\n",
      " [0.]\n",
      " [0.]\n",
      " [0.]]\n"
     ]
    },
    {
     "data": {
      "text/plain": [
       "314"
      ]
     },
     "execution_count": 71,
     "metadata": {},
     "output_type": "execute_result"
    }
   ],
   "source": []
  },
  {
   "cell_type": "code",
   "execution_count": 50,
   "metadata": {},
   "outputs": [],
   "source": [
    "import pandas as pd \n",
    "pd.DataFrame(pagerank_array).to_csv(\"file.csv\", header=None, index=None)"
   ]
  },
  {
   "cell_type": "code",
   "execution_count": 42,
   "metadata": {},
   "outputs": [
    {
     "data": {
      "text/plain": [
       "0"
      ]
     },
     "execution_count": 42,
     "metadata": {},
     "output_type": "execute_result"
    }
   ],
   "source": [
    "np.count_nonzero(pagerank_array[1000])"
   ]
  },
  {
   "cell_type": "code",
   "execution_count": 38,
   "metadata": {},
   "outputs": [],
   "source": []
  },
  {
   "cell_type": "code",
   "execution_count": 11,
   "metadata": {},
   "outputs": [],
   "source": []
  },
  {
   "cell_type": "code",
   "execution_count": 12,
   "metadata": {},
   "outputs": [],
   "source": []
  },
  {
   "cell_type": "code",
   "execution_count": 62,
   "metadata": {},
   "outputs": [],
   "source": [
    "import numpy as np\n",
    "import pandas as pd\n",
    "from scipy import sparse\n",
    "\n",
    "adjacency_matrix_T = pagerank_array.T\n",
    "\n",
    "# Creating M\n",
    "M = np.zeros(adjacency_matrix_T.shape)\n",
    "for c in range(adjacency_matrix_T.shape[1]):\n",
    "    s = adjacency_matrix_T[:, c].sum()\n",
    "    if(s!=0):\n",
    "        M[:, c] = adjacency_matrix_T[:, c]/s\n",
    "# Convertin M to csc matrix\n",
    "M_csc = sparse.csc_matrix(M)\n",
    "# Creating V matrix\n",
    "v = np.zeros(1001).reshape(1001, -1)\n",
    "# Convertin V to csc matrix\n",
    "v_csc = sparse.csc_matrix(v)\n",
    "# Creating e / n matrix\n",
    "e = np.ones(1001).reshape(1001, -1)\n",
    "n = 1001\n",
    "e_n = e / n\n",
    "e_n_csc = sparse.csc_matrix(e_n)\n",
    "\n"
   ]
  },
  {
   "cell_type": "code",
   "execution_count": 63,
   "metadata": {},
   "outputs": [
    {
     "data": {
      "text/plain": [
       "(1001, 1)"
      ]
     },
     "execution_count": 63,
     "metadata": {},
     "output_type": "execute_result"
    }
   ],
   "source": [
    "v_csc.shape"
   ]
  },
  {
   "cell_type": "code",
   "execution_count": 64,
   "metadata": {},
   "outputs": [
    {
     "name": "stdout",
     "output_type": "stream",
     "text": [
      "Top ten v= 91     0.003253\n",
      "201    0.003250\n",
      "278    0.002729\n",
      "202    0.002478\n",
      "125    0.002399\n",
      "71     0.002157\n",
      "44     0.002147\n",
      "313    0.002070\n",
      "237    0.001932\n",
      "86     0.001911\n",
      "dtype: float64\n"
     ]
    }
   ],
   "source": [
    "d = 1\n",
    "beta = 0.85\n",
    "alpha = 0.0001\n",
    "while(d>alpha):\n",
    "    v_prime = beta * (M_csc * v_csc) + (1-beta) * e_n_csc\n",
    "    #rescaling v_prime to sum of 1\n",
    "    t = 1 / v_prime.sum()\n",
    "    v_prime = v_prime * t\n",
    "    v_d = abs(v_prime.toarray()-v_csc.toarray())\n",
    "    d = v_d.sum()\n",
    "    v_csc = v_prime\n",
    "\n",
    "df_v = pd.Series(v_prime.toarray().ravel())\n",
    "print(\"Top ten v=\", df_v.nlargest(n=10))\n",
    "\n"
   ]
  },
  {
   "cell_type": "code",
   "execution_count": 57,
   "metadata": {},
   "outputs": [
    {
     "data": {
      "text/plain": [
       "<1000x1 sparse matrix of type '<class 'numpy.float64'>'\n",
       "\twith 1000 stored elements in Compressed Sparse Column format>"
      ]
     },
     "execution_count": 57,
     "metadata": {},
     "output_type": "execute_result"
    }
   ],
   "source": [
    "e_n_csc"
   ]
  },
  {
   "cell_type": "code",
   "execution_count": 5,
   "metadata": {},
   "outputs": [
    {
     "name": "stdout",
     "output_type": "stream",
     "text": [
      "get one of category : sport , news , fun  :fun\n"
     ]
    }
   ],
   "source": [
    "word=input(\"get one of category : sport , news , fun  :\")"
   ]
  },
  {
   "cell_type": "code",
   "execution_count": 6,
   "metadata": {},
   "outputs": [
    {
     "data": {
      "text/plain": [
       "'fun'"
      ]
     },
     "execution_count": 6,
     "metadata": {},
     "output_type": "execute_result"
    }
   ],
   "source": [
    "word"
   ]
  },
  {
   "cell_type": "code",
   "execution_count": 14,
   "metadata": {},
   "outputs": [
    {
     "name": "stdout",
     "output_type": "stream",
     "text": [
      "Top ten v= 201    0.003667\n",
      "91     0.003313\n",
      "278    0.002784\n",
      "202    0.002453\n",
      "71     0.002310\n",
      "125    0.002221\n",
      "237    0.002169\n",
      "313    0.001915\n",
      "82     0.001910\n",
      "63     0.001888\n",
      "dtype: float64\n"
     ]
    }
   ],
   "source": [
    "import numpy as np\n",
    "import pandas as pd\n",
    "from scipy import sparse\n",
    "\n",
    "adjacency_matrix_T = pagerank_array.T\n",
    "\n",
    "# Creating M\n",
    "M = np.zeros(adjacency_matrix_T.shape)\n",
    "for c in range(adjacency_matrix_T.shape[1]):\n",
    "    s = adjacency_matrix_T[:, c].sum()\n",
    "    if(s!=0):\n",
    "        M[:, c] = adjacency_matrix_T[:, c]/s\n",
    "# Convertin M to csc matrix\n",
    "M_csc = sparse.csc_matrix(M)\n",
    "# Creating V matrix\n",
    "v = np.zeros(1001).reshape(1001, -1)\n",
    "# Convertin V to csc matrix\n",
    "v_csc = sparse.csc_matrix(v)\n",
    "# Creating e / n matrix\n",
    "e = np.ones(1001).reshape(1001, -1)\n",
    "n = 1001\n",
    "if(word=='fun'):\n",
    "    n=np.count_nonzero(fun)\n",
    "    e_n=fun/n\n",
    "if(word=='sport'):\n",
    "    n=np.count_nonzero(sport)\n",
    "    e_n=sport/n\n",
    "if(word=='news'):\n",
    "    n=np.count_nonzero(news)\n",
    "    e_n=news/n\n",
    "e_n_csc = sparse.csc_matrix(e_n)\n",
    "\n",
    "d = 1\n",
    "beta = 0.85\n",
    "alpha = 0.0001\n",
    "while(d>alpha):\n",
    "    v_prime = beta * (M_csc * v_csc) + (1-beta) * e_n_csc\n",
    "    #rescaling v_prime to sum of 1\n",
    "    t = 1 / v_prime.sum()\n",
    "    v_prime = v_prime * t\n",
    "    v_d = abs(v_prime.toarray()-v_csc.toarray())\n",
    "    d = v_d.sum()\n",
    "    v_csc = v_prime\n",
    "\n",
    "df_v = pd.Series(v_prime.toarray().ravel())\n",
    "print(\"Top ten v=\", df_v.nlargest(n=10))\n"
   ]
  },
  {
   "cell_type": "code",
   "execution_count": null,
   "metadata": {},
   "outputs": [],
   "source": []
  },
  {
   "cell_type": "code",
   "execution_count": 66,
   "metadata": {},
   "outputs": [
    {
     "name": "stdout",
     "output_type": "stream",
     "text": [
      "Top ten h= 929    1.964874\n",
      "413    1.952038\n",
      "459    1.943605\n",
      "343    1.942080\n",
      "204    1.938160\n",
      "518    1.935616\n",
      "828    1.930222\n",
      "796    1.927166\n",
      "546    1.925466\n",
      "467    1.920444\n",
      "dtype: float64\n",
      "Top ten a= 63     281.107309\n",
      "237    268.819060\n",
      "71     267.460137\n",
      "202    263.811741\n",
      "125    251.529360\n",
      "278    247.960997\n",
      "91     247.790908\n",
      "44     244.829217\n",
      "187    244.637684\n",
      "201    243.839791\n",
      "dtype: float64\n"
     ]
    }
   ],
   "source": [
    "# HITS\n",
    "# Creating link matrix\n",
    "L = pagerank_array\n",
    "# Converting link matrix to csc matrix\n",
    "L_csc = sparse.csc_matrix(L)\n",
    "# Creating h matrix\n",
    "h = np.ones(1001).reshape(1001, -1)\n",
    "# Converting h matrix to csc matrix\n",
    "h_csc = sparse.csc_matrix(h)\n",
    "\n",
    "d = 1\n",
    "alpha = 0.001\n",
    "while(d>alpha):\n",
    "    a_csc = L_csc.transpose() * h_csc\n",
    "    h_prime = L_csc * a_csc\n",
    "    #rescaling h_csc to sum of 1\n",
    "    t = 1001 / h_prime.sum()\n",
    "    h_prime = h_prime * t\n",
    "    h_d = abs(h_prime.toarray()-h_csc.toarray())\n",
    "    d = h_d.sum()\n",
    "    h_csc = h_prime\n",
    "\n",
    "df_h = pd.Series(h_prime.toarray().ravel())\n",
    "df_h.nlargest(n=10)\n",
    "print(\"Top ten h=\", df_h.nlargest(n=10))\n",
    "df_a = pd.Series(a_csc.toarray().ravel())\n",
    "df_a.nlargest(n=10)\n",
    "print(\"Top ten a=\", df_a.nlargest(n=10))"
   ]
  },
  {
   "cell_type": "code",
   "execution_count": 1,
   "metadata": {},
   "outputs": [
    {
     "ename": "NameError",
     "evalue": "name 'pagerank_array' is not defined",
     "output_type": "error",
     "traceback": [
      "\u001b[1;31m---------------------------------------------------------------------------\u001b[0m",
      "\u001b[1;31mNameError\u001b[0m                                 Traceback (most recent call last)",
      "\u001b[1;32m<ipython-input-1-91eec7f0c53a>\u001b[0m in \u001b[0;36m<module>\u001b[1;34m\u001b[0m\n\u001b[0;32m      1\u001b[0m \u001b[1;32mimport\u001b[0m \u001b[0mnetworkx\u001b[0m \u001b[1;32mas\u001b[0m \u001b[0mnx\u001b[0m\u001b[1;33m\u001b[0m\u001b[1;33m\u001b[0m\u001b[0m\n\u001b[1;32m----> 2\u001b[1;33m \u001b[0mG\u001b[0m \u001b[1;33m=\u001b[0m \u001b[0mnx\u001b[0m\u001b[1;33m.\u001b[0m\u001b[0mfrom_numpy_array\u001b[0m\u001b[1;33m(\u001b[0m\u001b[0mpagerank_array\u001b[0m\u001b[1;33m,\u001b[0m \u001b[0mcreate_using\u001b[0m\u001b[1;33m=\u001b[0m\u001b[0mnx\u001b[0m\u001b[1;33m.\u001b[0m\u001b[0mGraph\u001b[0m\u001b[1;33m)\u001b[0m\u001b[1;33m\u001b[0m\u001b[1;33m\u001b[0m\u001b[0m\n\u001b[0m\u001b[0;32m      3\u001b[0m \u001b[0mpos\u001b[0m \u001b[1;33m=\u001b[0m \u001b[0mnx\u001b[0m\u001b[1;33m.\u001b[0m\u001b[0mlayout\u001b[0m\u001b[1;33m.\u001b[0m\u001b[0mspring_layout\u001b[0m\u001b[1;33m(\u001b[0m\u001b[0mG\u001b[0m\u001b[1;33m)\u001b[0m\u001b[1;33m\u001b[0m\u001b[1;33m\u001b[0m\u001b[0m\n\u001b[0;32m      4\u001b[0m \u001b[0mnx\u001b[0m\u001b[1;33m.\u001b[0m\u001b[0mdraw\u001b[0m\u001b[1;33m(\u001b[0m\u001b[0mG\u001b[0m\u001b[1;33m,\u001b[0m\u001b[0mpos\u001b[0m\u001b[1;33m=\u001b[0m\u001b[0mpos\u001b[0m\u001b[1;33m,\u001b[0m\u001b[0mnode_size\u001b[0m\u001b[1;33m=\u001b[0m\u001b[1;36m1\u001b[0m\u001b[1;33m,\u001b[0m \u001b[0mwidth\u001b[0m\u001b[1;33m=\u001b[0m\u001b[1;36m0.0001\u001b[0m\u001b[1;33m)\u001b[0m\u001b[1;33m\u001b[0m\u001b[1;33m\u001b[0m\u001b[0m\n",
      "\u001b[1;31mNameError\u001b[0m: name 'pagerank_array' is not defined"
     ]
    }
   ],
   "source": [
    "import networkx as nx\n",
    "G = nx.from_numpy_array(pagerank_array, create_using=nx.Graph)\n",
    "pos = nx.layout.spring_layout(G)\n",
    "nx.draw(G,pos=pos,node_size=1, width=0.0001)"
   ]
  },
  {
   "cell_type": "code",
   "execution_count": 93,
   "metadata": {},
   "outputs": [],
   "source": []
  },
  {
   "cell_type": "code",
   "execution_count": 103,
   "metadata": {},
   "outputs": [],
   "source": []
  },
  {
   "cell_type": "code",
   "execution_count": null,
   "metadata": {},
   "outputs": [],
   "source": []
  },
  {
   "cell_type": "code",
   "execution_count": null,
   "metadata": {},
   "outputs": [],
   "source": []
  },
  {
   "cell_type": "code",
   "execution_count": null,
   "metadata": {},
   "outputs": [],
   "source": []
  },
  {
   "cell_type": "code",
   "execution_count": null,
   "metadata": {},
   "outputs": [],
   "source": []
  }
 ],
 "metadata": {
  "kernelspec": {
   "display_name": "Python 3",
   "language": "python",
   "name": "python3"
  },
  "language_info": {
   "codemirror_mode": {
    "name": "ipython",
    "version": 3
   },
   "file_extension": ".py",
   "mimetype": "text/x-python",
   "name": "python",
   "nbconvert_exporter": "python",
   "pygments_lexer": "ipython3",
   "version": "3.8.5"
  }
 },
 "nbformat": 4,
 "nbformat_minor": 4
}
